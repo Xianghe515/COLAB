{
  "nbformat": 4,
  "nbformat_minor": 0,
  "metadata": {
    "colab": {
      "provenance": [],
      "gpuType": "T4",
      "authorship_tag": "ABX9TyNLdKiTEELbpzlZD30cjwzi",
      "include_colab_link": true
    },
    "kernelspec": {
      "name": "python3",
      "display_name": "Python 3"
    },
    "language_info": {
      "name": "python"
    },
    "accelerator": "GPU"
  },
  "cells": [
    {
      "cell_type": "markdown",
      "metadata": {
        "id": "view-in-github",
        "colab_type": "text"
      },
      "source": [
        "<a href=\"https://colab.research.google.com/github/Xianghe515/COLAB/blob/main/4th_ch11_%ED%81%B4%EB%9F%AC%EC%8A%A4%ED%84%B0%EB%A7%81.ipynb\" target=\"_parent\"><img src=\"https://colab.research.google.com/assets/colab-badge.svg\" alt=\"Open In Colab\"/></a>"
      ]
    },
    {
      "cell_type": "code",
      "execution_count": 13,
      "metadata": {
        "id": "ysByFjkfYnbZ"
      },
      "outputs": [],
      "source": [
        "import numpy as np\n",
        "import tensorflow as tf\n",
        "import matplotlib.pyplot as plt\n",
        "from sklearn.cluster import KMeans\n",
        "from sklearn.metrics import silhouette_score\n",
        "import cv2\n",
        "import os, glob, shutil"
      ]
    },
    {
      "cell_type": "code",
      "source": [
        "# GPU 사용 시 실행할 내용\n",
        "gpus = tf.config.experimental.list_physical_devices('GPU')  # cuDNN 초기화 문제 있을 때 실행\n",
        "if gpus:\n",
        "    try:\n",
        "        for gpu in gpus:\n",
        "            tf.config.experimental.set_memory_growth(gpu, True)   # GPU 두 개 이상이라면 메모리를 균등하게 사용하도록 조정\n",
        "        logical_gpus = tf.config.experimental.list_logical_devices('GPU')   # 메모리 설정\n",
        "        print(len(gpus), \"Physical GPUs,\", len(logical_gpus), \"Logical GPUs\")   # 물리적 GPU와 논리적 GPU 수량 표기\n",
        "    except RuntimeError as e:\n",
        "        print(e)"
      ],
      "metadata": {
        "id": "YMRhM6sLbbXH",
        "colab": {
          "base_uri": "https://localhost:8080/"
        },
        "outputId": "42313208-3929-4acb-aadd-038f76aa80aa"
      },
      "execution_count": 14,
      "outputs": [
        {
          "output_type": "stream",
          "name": "stdout",
          "text": [
            "1 Physical GPUs, 1 Logical GPUs\n"
          ]
        }
      ]
    },
    {
      "cell_type": "code",
      "source": [
        "# 데이터셋 준비\n",
        "input_dir = './data/pets'\n",
        "glob_dir = input_dir + '/*.jpg'\n",
        "\n",
        "images = [cv2.resize(cv2.imread(file), (224,224)) for file in glob.glob(glob_dir)]\n",
        "paths = [file for file in glob.glob(glob_dir)]\n",
        "images = np.array(np.float32(images).reshape(len(images),-1)/255)"
      ],
      "metadata": {
        "id": "R3X0cXE0bbRE"
      },
      "execution_count": 24,
      "outputs": []
    },
    {
      "cell_type": "code",
      "source": [
        "model = tf.keras.applications.VGG16(weights='imagenet', include_top=False, input_shape=(224,224,3))   # 이미지 사이즈 조정\n",
        "predictions = model.predict(images.reshape(-1,224,224,3))\n",
        "pred_images = predictions.reshape(predictions.shape[0], -1)"
      ],
      "metadata": {
        "colab": {
          "base_uri": "https://localhost:8080/"
        },
        "id": "TnVFTQMfezuF",
        "outputId": "38a1e9e7-71bf-4c94-a52c-7985d6af5bc3"
      },
      "execution_count": 25,
      "outputs": [
        {
          "output_type": "stream",
          "name": "stdout",
          "text": [
            "\u001b[1m2/2\u001b[0m \u001b[32m━━━━━━━━━━━━━━━━━━━━\u001b[0m\u001b[37m\u001b[0m \u001b[1m1s\u001b[0m 517ms/step\n"
          ]
        }
      ]
    },
    {
      "cell_type": "code",
      "source": [
        "# 클러스터링 구성\n",
        "k=2   # 클래스는 개와 고양이 두 개\n",
        "kmodel = KMeans(n_clusters=k, random_state=728)\n",
        "kmodel.fit(pred_images)\n",
        "kpredictions = kmodel.predict(pred_images)\n",
        "shutil.rmtree('./data/output')\n",
        "for i in range(k):\n",
        "  os.mkdir('./data/output'+str(i))\n",
        "for i in range(len(paths)):\n",
        "  shutil.copy(paths[i], './data/output'+str(kpredictions[i]))"
      ],
      "metadata": {
        "colab": {
          "base_uri": "https://localhost:8080/",
          "height": 216
        },
        "id": "eNqsHeBYezr-",
        "outputId": "5ce8e1ae-8388-4199-eeca-7a8d014ff17d"
      },
      "execution_count": 28,
      "outputs": [
        {
          "output_type": "error",
          "ename": "FileExistsError",
          "evalue": "[Errno 17] File exists: './data/output0'",
          "traceback": [
            "\u001b[0;31m---------------------------------------------------------------------------\u001b[0m",
            "\u001b[0;31mFileExistsError\u001b[0m                           Traceback (most recent call last)",
            "\u001b[0;32m<ipython-input-28-07a8576f7376>\u001b[0m in \u001b[0;36m<cell line: 0>\u001b[0;34m()\u001b[0m\n\u001b[1;32m      6\u001b[0m \u001b[0mshutil\u001b[0m\u001b[0;34m.\u001b[0m\u001b[0mrmtree\u001b[0m\u001b[0;34m(\u001b[0m\u001b[0;34m'./data/output'\u001b[0m\u001b[0;34m)\u001b[0m\u001b[0;34m\u001b[0m\u001b[0;34m\u001b[0m\u001b[0m\n\u001b[1;32m      7\u001b[0m \u001b[0;32mfor\u001b[0m \u001b[0mi\u001b[0m \u001b[0;32min\u001b[0m \u001b[0mrange\u001b[0m\u001b[0;34m(\u001b[0m\u001b[0mk\u001b[0m\u001b[0;34m)\u001b[0m\u001b[0;34m:\u001b[0m\u001b[0;34m\u001b[0m\u001b[0;34m\u001b[0m\u001b[0m\n\u001b[0;32m----> 8\u001b[0;31m   \u001b[0mos\u001b[0m\u001b[0;34m.\u001b[0m\u001b[0mmkdir\u001b[0m\u001b[0;34m(\u001b[0m\u001b[0;34m'./data/output'\u001b[0m\u001b[0;34m+\u001b[0m\u001b[0mstr\u001b[0m\u001b[0;34m(\u001b[0m\u001b[0mi\u001b[0m\u001b[0;34m)\u001b[0m\u001b[0;34m)\u001b[0m\u001b[0;34m\u001b[0m\u001b[0;34m\u001b[0m\u001b[0m\n\u001b[0m\u001b[1;32m      9\u001b[0m \u001b[0;32mfor\u001b[0m \u001b[0mi\u001b[0m \u001b[0;32min\u001b[0m \u001b[0mrange\u001b[0m\u001b[0;34m(\u001b[0m\u001b[0mlen\u001b[0m\u001b[0;34m(\u001b[0m\u001b[0mpaths\u001b[0m\u001b[0;34m)\u001b[0m\u001b[0;34m)\u001b[0m\u001b[0;34m:\u001b[0m\u001b[0;34m\u001b[0m\u001b[0;34m\u001b[0m\u001b[0m\n\u001b[1;32m     10\u001b[0m   \u001b[0mshutil\u001b[0m\u001b[0;34m.\u001b[0m\u001b[0mcopy\u001b[0m\u001b[0;34m(\u001b[0m\u001b[0mpaths\u001b[0m\u001b[0;34m[\u001b[0m\u001b[0mi\u001b[0m\u001b[0;34m]\u001b[0m\u001b[0;34m,\u001b[0m \u001b[0;34m'./data/output'\u001b[0m\u001b[0;34m+\u001b[0m\u001b[0mstr\u001b[0m\u001b[0;34m(\u001b[0m\u001b[0mkpredictions\u001b[0m\u001b[0;34m[\u001b[0m\u001b[0mi\u001b[0m\u001b[0;34m]\u001b[0m\u001b[0;34m)\u001b[0m\u001b[0;34m)\u001b[0m\u001b[0;34m\u001b[0m\u001b[0;34m\u001b[0m\u001b[0m\n",
            "\u001b[0;31mFileExistsError\u001b[0m: [Errno 17] File exists: './data/output0'"
          ]
        }
      ]
    },
    {
      "cell_type": "code",
      "source": [
        "# KMeans에서 클래스 개수 알아보기\n",
        "sil = []\n",
        "kl = []\n",
        "kamx = 10\n",
        "for k in range(2, kamx+1):\n",
        "  kmeans2 = KMeans(n_clusters=k).fit(pred_images)\n",
        "  labels = kmeans2.labels_\n",
        "  sil.append(silhouette_score(pred_images, labels, metric='euclidean'))\n",
        "  kl.append(k)"
      ],
      "metadata": {
        "id": "nBvErQ--ezpr"
      },
      "execution_count": 33,
      "outputs": []
    },
    {
      "cell_type": "code",
      "source": [
        "# 실루엣의 시각화\n",
        "plt.plot(kl, sil)\n",
        "plt.xlabel('SIlhouse Score')\n",
        "plt.ylabel('k')\n",
        "plt.show()"
      ],
      "metadata": {
        "id": "vSkveKyueziZ",
        "colab": {
          "base_uri": "https://localhost:8080/",
          "height": 449
        },
        "outputId": "4acf65b5-2bdd-4633-cbdd-a99ea6c18c04"
      },
      "execution_count": 34,
      "outputs": [
        {
          "output_type": "display_data",
          "data": {
            "text/plain": [
              "<Figure size 640x480 with 1 Axes>"
            ],
            "image/png": "[encoded data removed]"
          },
          "metadata": {}
        }
      ]
    },
    {
      "cell_type": "code",
      "source": [],
      "metadata": {
        "id": "tDPSeu5Gji8a"
      },
      "execution_count": null,
      "outputs": []
    }
  ]
}